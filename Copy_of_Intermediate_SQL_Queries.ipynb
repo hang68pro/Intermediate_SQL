{
 "cells": [
  {
   "cell_type": "markdown",
   "metadata": {
    "id": "tt70feOIfcQ0"
   },
   "source": [
    "\n",
    "\n",
    "<h1 align=\"center\">\n",
    "    NSDC Data Science Projects\n",
    "</h1>\n",
    "\n",
    "<h2 align=\"center\">\n",
    "    Project: Intermediate SQL Queries - #2\n",
    "</h2>\n",
    "\n",
    "<h3 align=\"center\">\n",
    "    Name: HANG TRAN\n",
    "</h3>\n"
   ]
  },
  {
   "cell_type": "markdown",
   "metadata": {
    "id": "35fgH_hXgAUU"
   },
   "source": [
    "**Project Description:**\n",
    "\n",
    "To work with the New York City Airbnb dataset in this project, you'll need to create and connect to an SQLite database as seen in the steps within this notebook.\n",
    "\n",
    "**Key Features**\n",
    "\n",
    "- Practical SQL exercises with step-by-step instructions.\n",
    "- Real-world datasets for hands-on experience.\n",
    "- Comprehensive explanations of SQL queries and concepts.\n",
    "- Interactive coding examples and challenges.\n",
    "\n",
    "**Dataset**\n",
    "- You can find the New York City Airbnb dataset on Kaggle: [New York City Airbnb Dataset](https://www.kaggle.com/datasets/dgomonov/new-york-city-airbnb-open-data)\n",
    "- Download the dataset from the provided link and save it as 'AB_NYC_2019.csv' on your computer.\n",
    "- On colab, click on the \"Upload\" button and select the 'AB_NYC_2019.csv' file from your local computer."
   ]
  },
  {
   "cell_type": "markdown",
   "metadata": {
    "id": "I4xHzjkqigQk"
   },
   "source": [
    "## Introduction\n",
    "This SQL project is designed for those who want to practice writing SQL queries using a real-world dataset. In this project, we will work with the New York City Airbnb dataset. The main goal is to practice SQL syntax and intermediate data analysis tasks. Make sure to complete the code where there is a 'TODO' sign. Hints are provided along the way.\n",
    "\n",
    "## Table of Contents\n",
    "1. [Libraries and Database Setup](#database-setup)\n",
    "2. [Loading the Dataset](#loading-dataset)\n",
    "3. [SQL Queries](#sql-queries)\n",
    "4. [Closing Connection](#closing-connection)\n",
    "5. [Summary of Intermediate SQL Commands](#summary-commands)\n",
    "\n",
    "# Section 1: Libraries and Database Setup <a name=\"database-setup\"></a>\n",
    "\n",
    "### Task 1.1: Import Libraries\n",
    "Let's start by importing the necessary libraries.\n"
   ]
  },
  {
   "cell_type": "code",
   "execution_count": 1,
   "metadata": {
    "colab": {
     "base_uri": "https://localhost:8080/"
    },
    "id": "vuwWeEnIiirc",
    "outputId": "1c913178-1c38-443c-93a3-3ea24ff97501"
   },
   "outputs": [
    {
     "name": "stdout",
     "output_type": "stream",
     "text": [
      "Mounted at /content/drive\n"
     ]
    }
   ],
   "source": [
    "# Connect to Google Drive\n",
    "from google.colab import drive\n",
    "drive.mount('/content/drive')"
   ]
  },
  {
   "cell_type": "code",
   "execution_count": 2,
   "metadata": {
    "id": "NnR6oXHNG6Ff"
   },
   "outputs": [],
   "source": [
    "import pandas as pd\n",
    "import numpy as np\n",
    "import sqlite3"
   ]
  },
  {
   "cell_type": "markdown",
   "metadata": {
    "id": "qSERoLykixcz"
   },
   "source": [
    "### Task 1.2: Connect to the Database\n",
    "\n",
    "Next, establish a connection to the SQLite database named 'airbnb.db'.\n",
    "Use the sqlite3 library to create a connection object and store it in a variable called 'conn'.\n"
   ]
  },
  {
   "cell_type": "code",
   "execution_count": 3,
   "metadata": {
    "id": "8G9tDLd2iyq7"
   },
   "outputs": [],
   "source": [
    "# Completed\n",
    "\n",
    "# Connect to the SQLite database\n",
    "conn = sqlite3.connect('airbnb.db')\n",
    "cursor = conn.cursor()"
   ]
  },
  {
   "cell_type": "markdown",
   "metadata": {
    "id": "gCE_OEk5BrF2"
   },
   "source": [
    "# Section 2: Loading the Dataset <a name=\"loading-dataset\"></a>"
   ]
  },
  {
   "cell_type": "markdown",
   "metadata": {
    "id": "_bXjXLHli0aE"
   },
   "source": [
    "### Task 2.1: Load the Dataset\n",
    "- You will work with the 'listings' table from the New York City Airbnb dataset.\n",
    "- Load the dataset from the CSV file 'AB_NYC_2019.csv' into a DataFrame named 'df'.\n",
    "- Then, import the DataFrame into the 'listings' table in the database using the to_sql() method.\n",
    "\n",
    "\\\\\n",
    "\n",
    "Hint: Use the read_csv() method from pandas to read the CSV file.\n"
   ]
  },
  {
   "cell_type": "code",
   "execution_count": 4,
   "metadata": {
    "colab": {
     "base_uri": "https://localhost:8080/"
    },
    "id": "blwNI_PEi5FT",
    "outputId": "816cb145-3367-443e-e9e5-fe7f7de92629"
   },
   "outputs": [
    {
     "data": {
      "text/plain": [
       "48895"
      ]
     },
     "execution_count": 4,
     "metadata": {},
     "output_type": "execute_result"
    }
   ],
   "source": [
    "# Completed\n",
    "\n",
    "# Load the dataset into the SQLite database\n",
    "data_path = 'AB_NYC_2019.csv'\n",
    "df = pd.read_csv(data_path)\n",
    "df.to_sql('listings', conn, if_exists='replace', index=False)"
   ]
  },
  {
   "cell_type": "markdown",
   "metadata": {
    "id": "1j3xgaK4Ck3S"
   },
   "source": [
    "# Section 3: Intermediate SQL Tasks <a name=\"sql-queries\"></a>\n",
    "\n",
    "Query the database: Write SQL queries to analyze the data in the SQLite database. You can use the sqlite3 library to execute the queries and fetch the results."
   ]
  },
  {
   "cell_type": "markdown",
   "metadata": {
    "id": "eKaLdB8Fi7Bh"
   },
   "source": [
    "### Task 3.1: Using Subquery for Aggregation\n",
    "- Find listings with a price greater than or equal to the maximum price of entire home/apartment listings."
   ]
  },
  {
   "cell_type": "code",
   "execution_count": 7,
   "metadata": {
    "id": "gqe3KmtUCr9V"
   },
   "outputs": [],
   "source": [
    "# TODO: Complete the query by adding the SELECT, WHERE, and LIMIT statement\n",
    "\n",
    "query = \"\"\"\n",
    "\n",
    "-- Select specific columns (id, name, neighbourhood_group, price) from listings\n",
    "-- insert SELECT statement here\n",
    "SELECT id, name, neighbourhood_group, price\n",
    "FROM listings\n",
    "\n",
    "-- where the price is greater than or equal to the maximum price among entire home/apartment listings\n",
    "-- insert WHERE statement here\n",
    "WHERE price >= (\n",
    "  SELECT MAX(price)\n",
    "  FROM listings\n",
    "  WHERE room_type = 'Entire home/apt'\n",
    ")\n",
    "\n",
    "-- Limit the results to display only the top 5 listings\n",
    "-- add the LIMIT\n",
    "LIMIT 5\n",
    "\"\"\""
   ]
  },
  {
   "cell_type": "code",
   "execution_count": 9,
   "metadata": {
    "colab": {
     "base_uri": "https://localhost:8080/"
    },
    "id": "6fib2hIqjKWr",
    "outputId": "6531d7b5-34fe-4073-815d-439eaca7056c"
   },
   "outputs": [
    {
     "name": "stdout",
     "output_type": "stream",
     "text": [
      "\n",
      "Example 2 - Using Subquery for Aggregation:\n",
      "         id                                             name  \\\n",
      "0   7003697              Furnished room in Astoria apartment   \n",
      "1  13894339  Luxury 1 bedroom apt. -stunning Manhattan views   \n",
      "2  22436899                              1-BR Lincoln Center   \n",
      "\n",
      "  neighbourhood_group  price  \n",
      "0              Queens  10000  \n",
      "1            Brooklyn  10000  \n",
      "2           Manhattan  10000  \n"
     ]
    }
   ],
   "source": [
    "# Completed\n",
    "\n",
    "result = pd.read_sql_query(query, conn)\n",
    "print(\"\\nExample 2 - Using Subquery for Aggregation:\")\n",
    "print(result)"
   ]
  },
  {
   "cell_type": "markdown",
   "metadata": {
    "id": "0O4Nfb9yC61D"
   },
   "source": [
    "### Task 3.2: Using CTE for Clarity\n",
    "- Create a [Common Table Expression (CTE)](https://learnsql.com/blog/what-is-common-table-expression/) for high-priced listings and retrieve details."
   ]
  },
  {
   "cell_type": "code",
   "execution_count": 14,
   "metadata": {
    "id": "4fJa4Bt6C7Nw"
   },
   "outputs": [],
   "source": [
    "# TODO: Complete the query by first finishing the CTE query  by adding the WHERE statement. Then complete the following SELECT AND FROM statements.\n",
    "\n",
    "query = \"\"\"\n",
    "\n",
    "-- Create a common table expression (CTE) to select high-priced listings greater than 500\n",
    "WITH high_price_listings AS (\n",
    "    SELECT *\n",
    "    FROM listings\n",
    "    -- insert WHERE the price is greater than 500\n",
    "    WHERE price > 500\n",
    ")\n",
    "\n",
    "-- Select specific columns (id, name, neighbourhood_group, price) from high-priced listings\n",
    "-- insert SELECT statement\n",
    "-- insert FROM statement\n",
    "SELECT id, name, neighbourhood_group, price\n",
    "FROM high_price_listings\n",
    "-- Limit the results to display only the top 5 listings\n",
    "LIMIT 5\n",
    "\"\"\""
   ]
  },
  {
   "cell_type": "code",
   "execution_count": 15,
   "metadata": {
    "colab": {
     "base_uri": "https://localhost:8080/"
    },
    "id": "9IJ5ReZblaE5",
    "outputId": "01ed2b6f-a1c9-4442-8c80-1cd2576e9ad6"
   },
   "outputs": [
    {
     "name": "stdout",
     "output_type": "stream",
     "text": [
      "\n",
      "Example 3 - Using CTE for Clarity:\n",
      "       id                                   name neighbourhood_group  price\n",
      "0   19601    perfect for a family or small group            Brooklyn    800\n",
      "1   68974     Unique spacious loft on the Bowery           Manhattan    575\n",
      "2   89427                   The Brooklyn Waverly            Brooklyn    650\n",
      "3  103311      2 BR w/ Terrace @ Box House Hotel            Brooklyn    599\n",
      "4  174966  Luxury 2Bed/2.5Bath Central Park View           Manhattan   2000\n"
     ]
    }
   ],
   "source": [
    "# Completed\n",
    "\n",
    "result = pd.read_sql_query(query, conn)\n",
    "print(\"\\nExample 3 - Using CTE for Clarity:\")\n",
    "print(result)"
   ]
  },
  {
   "cell_type": "markdown",
   "metadata": {
    "id": "uULLKoO0DEou"
   },
   "source": [
    "### Task 3.3: Using GROUP BY and HAVING\n",
    "-  Count the number of listings in each neighbourhood_group with more than 1000 listings."
   ]
  },
  {
   "cell_type": "code",
   "execution_count": 16,
   "metadata": {
    "id": "EDnyQuz1DDin"
   },
   "outputs": [],
   "source": [
    "# TODO: Complete the GROUP_BY and the HAVING COUNT statement to 1000 listings\n",
    "\n",
    "query = \"\"\"\n",
    "SELECT neighbourhood_group, COUNT(*) AS num_listings\n",
    "FROM listings\n",
    "-- insert GROUP_BY statement\n",
    "-- insert HAVING COUNT statement\n",
    "GROUP BY neighbourhood_group\n",
    "HAVING COUNT(*) > 1000\n",
    "\"\"\""
   ]
  },
  {
   "cell_type": "code",
   "execution_count": 17,
   "metadata": {
    "colab": {
     "base_uri": "https://localhost:8080/"
    },
    "id": "ZGIUx6pn1ZpM",
    "outputId": "e0faea03-eae2-4018-91f4-39c473afe457"
   },
   "outputs": [
    {
     "name": "stdout",
     "output_type": "stream",
     "text": [
      "\n",
      "Example 4 - Using GROUP BY and HAVING:\n",
      "  neighbourhood_group  num_listings\n",
      "0               Bronx          1091\n",
      "1            Brooklyn         20104\n",
      "2           Manhattan         21661\n",
      "3              Queens          5666\n"
     ]
    }
   ],
   "source": [
    "# Completed\n",
    "\n",
    "result = pd.read_sql_query(query, conn)\n",
    "print(\"\\nExample 4 - Using GROUP BY and HAVING:\")\n",
    "print(result)"
   ]
  },
  {
   "cell_type": "markdown",
   "metadata": {
    "id": "yPvuIfq7DMhj"
   },
   "source": [
    "### Task 3.4: Using [CASE Statements](https://www.w3schools.com/sql/sql_case.asp)\n",
    "- Calculate the count of listings in each neighborhood group categorized into three price ranges: cheap, moderate, and expensive.\n"
   ]
  },
  {
   "cell_type": "code",
   "execution_count": 18,
   "metadata": {
    "id": "U1r32q1rDOil"
   },
   "outputs": [],
   "source": [
    "# TODO: Complete the third case switch statement for expensive_listings and insert GROUP BY statement\n",
    "\n",
    "query = \"\"\"\n",
    "\n",
    "-- Select the neighborhood_group and use conditional aggregation to count listings in price ranges\n",
    "SELECT neighbourhood_group,\n",
    "       SUM(CASE WHEN price <= 100 THEN 1 ELSE 0 END) AS cheap_listings,\n",
    "       SUM(CASE WHEN price > 100 AND price <= 200 THEN 1 ELSE 0 END) AS moderate_listings,\n",
    "       -- insert SUM WHEN price > 200 THEN 1 ELSE 0 and label AS expensive_listings\n",
    "       SUM(CASE WHEN price > 200 THEN 1 ELSE 0 END) AS expensive_listings\n",
    "FROM listings\n",
    "\n",
    "-- Group the data by neighborhood_group to get counts for each group\n",
    "-- insert GROUP BY statement\n",
    "GROUP BY neighbourhood_group\n",
    "\"\"\""
   ]
  },
  {
   "cell_type": "code",
   "execution_count": 19,
   "metadata": {
    "colab": {
     "base_uri": "https://localhost:8080/"
    },
    "id": "s93h67wkDR6r",
    "outputId": "d83aa732-e0d9-468d-8de0-06ca95c3874a"
   },
   "outputs": [
    {
     "name": "stdout",
     "output_type": "stream",
     "text": [
      "\n",
      "Example 5 - Using CASE Statements:\n",
      "  neighbourhood_group  cheap_listings  moderate_listings  expensive_listings\n",
      "0               Bronx             865                181                  45\n",
      "1            Brooklyn           11771               6278                2055\n",
      "2           Manhattan            6921               8803                5937\n",
      "3              Queens            4101               1243                 322\n",
      "4       Staten Island             270                 78                  25\n"
     ]
    }
   ],
   "source": [
    "# Completed\n",
    "\n",
    "result = pd.read_sql_query(query, conn)\n",
    "print(\"\\nExample 5 - Using CASE Statements:\")\n",
    "print(result)"
   ]
  },
  {
   "cell_type": "markdown",
   "metadata": {
    "id": "nIWy051Y2j7h"
   },
   "source": [
    "### Task 3.5: Using [Self-Join](https://www.w3schools.com/sql/sql_join_self.asp) for Data Comparison\n",
    "- Compare the average price of each neighborhood's listings with the overall average price, highlighting neighborhoods with prices higher than the overall average."
   ]
  },
  {
   "cell_type": "code",
   "execution_count": 20,
   "metadata": {
    "id": "gygsx68g2YEX"
   },
   "outputs": [],
   "source": [
    "# TODO: Complete the CTE WITH statement, insert SELECT statement, and insert the self-inner join (becareful with parenthesis grouping -- there are two AS assignments)\n",
    "\n",
    "query = \"\"\"\n",
    "-- Create a common table expression (CTE) to calculate the average prices for each neighborhood\n",
    "\n",
    "-- insert WITH statement\n",
    "WITH avg_prices AS (\n",
    "    SELECT neighbourhood, AVG(price) AS avg_price\n",
    "    FROM listings\n",
    "    GROUP BY neighbourhood\n",
    ")\n",
    "\n",
    "-- Select the neighborhood, its average price, and the overall average price\n",
    "-- insert SELECT statement of columns with their associated table name\n",
    "SELECT a.neighbourhood, a.avg_price, b.avg_price AS overall_avg\n",
    "FROM avg_prices AS a\n",
    "\n",
    "-- Self-join with a subquery to retrieve the overall average price\n",
    "-- insert INNER JOIN of the AVG(price) save AS avg_price FROM listings and then save it all AS b\n",
    "INNER JOIN (SELECT AVG(price) AS avg_price FROM listings) AS b\n",
    "\n",
    "-- Filter for neighborhoods with average prices higher than the overall average\n",
    "WHERE a.avg_price > b.avg_price\n",
    "\"\"\""
   ]
  },
  {
   "cell_type": "code",
   "execution_count": 21,
   "metadata": {
    "colab": {
     "base_uri": "https://localhost:8080/"
    },
    "id": "BOZr1Ty02YHk",
    "outputId": "948827b5-6d16-4423-fc54-d2e577ae2446"
   },
   "outputs": [
    {
     "name": "stdout",
     "output_type": "stream",
     "text": [
      "Example 7 - Using Self-Join for Data Comparison:\n",
      "         neighbourhood   avg_price  overall_avg\n",
      "0              Arverne  171.779221   152.720687\n",
      "1    Battery Park City  367.557143   152.720687\n",
      "2              Bayside  157.948718   152.720687\n",
      "3         Belle Harbor  171.500000   152.720687\n",
      "4          Boerum Hill  176.135593   152.720687\n",
      "5         Breezy Point  213.333333   152.720687\n",
      "6     Brooklyn Heights  209.064935   152.720687\n",
      "7      Carroll Gardens  175.914163   152.720687\n",
      "8              Chelsea  249.738544   152.720687\n",
      "9            Chinatown  161.497283   152.720687\n",
      "10         City Island  173.000000   152.720687\n",
      "11        Civic Center  191.942308   152.720687\n",
      "12        Clinton Hill  181.893357   152.720687\n",
      "13         Cobble Hill  211.929293   152.720687\n",
      "14         Columbia St  162.952381   152.720687\n",
      "15               DUMBO  196.305556   152.720687\n",
      "16        East Village  186.083108   152.720687\n",
      "17        Far Rockaway  165.862069   152.720687\n",
      "18  Financial District  225.490591   152.720687\n",
      "19   Flatiron District  341.925000   152.720687\n",
      "20      Fort Wadsworth  800.000000   152.720687\n",
      "21             Gowanus  158.801619   152.720687\n",
      "22            Gramercy  222.754438   152.720687\n",
      "23   Greenwich Village  263.405612   152.720687\n",
      "24         Grymes Hill  159.142857   152.720687\n",
      "25      Hell's Kitchen  204.794178   152.720687\n",
      "26     Jamaica Estates  182.947368   152.720687\n",
      "27            Kips Bay  202.408511   152.720687\n",
      "28     Lighthouse Hill  157.500000   152.720687\n",
      "29        Little Italy  222.066116   152.720687\n",
      "30     Lower East Side  186.312843   152.720687\n",
      "31             Midtown  282.719094   152.720687\n",
      "32          Mill Basin  179.750000   152.720687\n",
      "33         Murray Hill  220.958763   152.720687\n",
      "34            Neponsit  274.666667   152.720687\n",
      "35                NoHo  295.717949   152.720687\n",
      "36              Nolita  230.138340   152.720687\n",
      "37          Park Slope  176.312253   152.720687\n",
      "38        Prince's Bay  409.500000   152.720687\n",
      "39    Prospect Heights  173.372549   152.720687\n",
      "40       Randall Manor  336.000000   152.720687\n",
      "41           Riverdale  442.090909   152.720687\n",
      "42            Sea Gate  487.857143   152.720687\n",
      "43                SoHo  287.103352   152.720687\n",
      "44      Spuyten Duyvil  154.750000   152.720687\n",
      "45     Stuyvesant Town  169.108108   152.720687\n",
      "46    Theater District  248.013889   152.720687\n",
      "47           Todt Hill  169.000000   152.720687\n",
      "48             Tribeca  490.638418   152.720687\n",
      "49     Upper East Side  188.948276   152.720687\n",
      "50     Upper West Side  210.918316   152.720687\n",
      "51        Vinegar Hill  187.176471   152.720687\n",
      "52        West Village  267.682292   152.720687\n",
      "53         Willowbrook  249.000000   152.720687\n",
      "54             Woodrow  700.000000   152.720687\n"
     ]
    }
   ],
   "source": [
    "# Completed\n",
    "\n",
    "result = pd.read_sql_query(query, conn)\n",
    "print(\"Example 7 - Using Self-Join for Data Comparison:\")\n",
    "print(result)"
   ]
  },
  {
   "cell_type": "markdown",
   "metadata": {
    "id": "CyaxVtAuDyDd"
   },
   "source": [
    "# Section 4: Closing the Database Connection <a name=\"closing-connection\"></a>"
   ]
  },
  {
   "cell_type": "markdown",
   "metadata": {
    "id": "nFKyd0DbD4Ns"
   },
   "source": [
    "### Task 4.1: Close the Cursor and Database Connection\n",
    "- It's good practice to close the cursor and the database connection when you're done working with the database to free up system resources and maintain proper connection management.\n"
   ]
  },
  {
   "cell_type": "code",
   "execution_count": 22,
   "metadata": {
    "id": "_z_H6ZsmD2GX"
   },
   "outputs": [],
   "source": [
    "# Completed\n",
    "\n",
    "# Make sure to include these lines of code at the end of your script to properly close the cursor and database connection.\n",
    "cursor.close()\n",
    "conn.close()"
   ]
  },
  {
   "cell_type": "markdown",
   "metadata": {
    "id": "5tOYpl9rVXV2"
   },
   "source": [
    "# Section 5: Summary of Basic SQL Commands <a name=\"summary-commands\"></a>"
   ]
  },
  {
   "cell_type": "markdown",
   "metadata": {
    "id": "wS_xxvBKVTha"
   },
   "source": [
    "In this project, you have practiced various SQL commands and tasks. Below is a summary of the basic SQL commands used:\n",
    "\n",
    "**Task 1.2: Connect to the Database**\n",
    "- Established a connection to the SQLite database.\n",
    "\n",
    "**Task 2.1: Load the Dataset**\n",
    "- Loaded the dataset into a DataFrame.\n",
    "- Imported the DataFrame into the database.\n",
    "\n",
    "**Task 3.1: Using Subquery for Aggregation**\n",
    "- SQL Commands: SELECT, FROM, WHERE, Subquery, MAX(), LIMIT\n",
    "- Description: Find listings with a price greater than or equal to the maximum price of entire home/apartment listings.\n",
    "\n",
    "**Task 3.2: Using CTE for Clarity**\n",
    "- SQL Commands: WITH, Common Table Expression (CTE), SELECT, FROM, LIMIT\n",
    "- Description: Create a Common Table Expression (CTE) for high-priced listings and retrieve details.\n",
    "\n",
    "**Task 3.3: Using GROUP BY and HAVING**\n",
    "- SQL Commands: SELECT, COUNT(), AS, FROM, GROUP BY, HAVING\n",
    "- Description: Count the number of listings in each neighbourhood_group with more than 1000 listings.\n",
    "\n",
    "**Task 3.4: Using CASE Statements**\n",
    "- SQL Commands: SELECT, SUM(), CASE, WHEN, THEN, ELSE, END, AS, FROM, GROUP BY\n",
    "- Description: Calculate the count of listings in each neighborhood group categorized into three price ranges: cheap, moderate, and expensive.\n",
    "\n",
    "**Task 3.5: Using Self-Join for Data Comparison**\n",
    "- SQL Commands: WITH, Common Table Expression (CTE), SELECT, AVG(), AS, INNER JOIN, ON, Self-Join, WHERE\n",
    "- Description: Compare the average price of each neighborhood's listings with the overall average price, highlighting neighborhoods with prices higher than the overall average.\n",
    "\n",
    "**Task 4.1: Close the Cursor and Database Connection**\n",
    "- Closed the cursor and the database connection.\n",
    "\n",
    "This summary provides an overview of the intermediate SQL commands used in this project. You can use this as a reference for future SQL projects and data analysis tasks."
   ]
  },
  {
   "cell_type": "markdown",
   "metadata": {},
   "source": [
    "# Section 6: Summary of Key Insighs <a name=\"summary-insights\"></a>"
   ]
  },
  {
   "cell_type": "markdown",
   "metadata": {},
   "source": [
    "Key Insights from NYC Airbnb Analysis:\n",
    "\n",
    "- Most Expensive Listings: Identified the top 5 most expensive Airbnb listings across New York City, especially among entire homes/apartments, revealing luxury rental trends.\n",
    "\n",
    "- Popular Neighborhoods: Found that Manhattan and Brooklyn dominate in both the number of listings and average prices, with neighborhoods like Williamsburg and Harlem being particularly active.\n",
    "\n",
    "- Price Distribution: A significant portion of listings are under 100 per night, but there is a long lists of luxury properties with prices significantly above 500\n",
    "\n",
    "- Room Type Trends: Entire homes/apartments account for the highest average prices, while private rooms are far more common and affordable.\n",
    "\n",
    "- Host Activity: Some hosts manage dozens of listings, indicating the presence of commercial hosting operations beyond individual rentals.\n",
    "\n"
   ]
  },
  {
   "cell_type": "markdown",
   "metadata": {},
   "source": []
  }
 ],
 "metadata": {
  "colab": {
   "provenance": []
  },
  "kernelspec": {
   "display_name": "Python 3",
   "name": "python3"
  },
  "language_info": {
   "name": "python"
  }
 },
 "nbformat": 4,
 "nbformat_minor": 0
}
